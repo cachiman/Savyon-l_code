{
 "cells": [
  {
   "cell_type": "code",
   "execution_count": 3,
   "metadata": {},
   "outputs": [
    {
     "data": {
      "text/plain": [
       "[1293, 1207, 1623, 1675, 1842]"
      ]
     },
     "execution_count": 3,
     "metadata": {},
     "output_type": "execute_result"
    }
   ],
   "source": [
    "inputs = [int(line) for line in open(\"input.txt\") if line.strip()]\n",
    "inputs[:5]"
   ]
  },
  {
   "cell_type": "code",
   "execution_count": 11,
   "metadata": {},
   "outputs": [
    {
     "name": "stdout",
     "output_type": "stream",
     "text": [
      "1486 534 793524\n",
      "534 1486 793524\n",
      "CPU times: user 4.9 ms, sys: 171 µs, total: 5.07 ms\n",
      "Wall time: 5.01 ms\n"
     ]
    }
   ],
   "source": [
    "%%time\n",
    "# find two entries that sum to 2020\n",
    "for i in inputs:\n",
    "    for j in inputs:\n",
    "        if i + j==2020:\n",
    "            print(i, j, i*j)"
   ]
  },
  {
   "cell_type": "code",
   "execution_count": 10,
   "metadata": {},
   "outputs": [
    {
     "name": "stdout",
     "output_type": "stream",
     "text": [
      "61515678\n",
      "CPU times: user 476 ms, sys: 4.54 ms, total: 481 ms\n",
      "Wall time: 480 ms\n"
     ]
    }
   ],
   "source": [
    "%%time\n",
    "# find three entries that sum to 2020. This time, be a tiny bit more clever\n",
    "l = len(inputs)\n",
    "for i in range(l):\n",
    "    for j in range(i, l):\n",
    "        for k in range(j, l):\n",
    "            ii, ij, ik = inputs[i], inputs[j], inputs[k]\n",
    "            if ii + ij + ik == 2020:\n",
    "                print(ii*ij*ik)"
   ]
  },
  {
   "cell_type": "code",
   "execution_count": 12,
   "metadata": {},
   "outputs": [
    {
     "name": "stdout",
     "output_type": "stream",
     "text": [
      "61515678\n",
      "CPU times: user 22.3 ms, sys: 700 µs, total: 23 ms\n",
      "Wall time: 22.5 ms\n"
     ]
    }
   ],
   "source": [
    "%%time\n",
    "# we could eliminate rows where i+j > 2020\n",
    "l = len(inputs)\n",
    "for i in range(l):\n",
    "    for j in range(i, l):\n",
    "        if inputs[i]+inputs[j] >= 2020:\n",
    "            continue\n",
    "        for k in range(j, l):\n",
    "            ii, ij, ik = inputs[i], inputs[j], inputs[k]\n",
    "            if ii + ij + ik == 2020:\n",
    "                print(ii*ij*ik)"
   ]
  },
  {
   "cell_type": "code",
   "execution_count": 22,
   "metadata": {},
   "outputs": [
    {
     "name": "stdout",
     "output_type": "stream",
     "text": [
      "61515678\n",
      "CPU times: user 13.7 ms, sys: 753 µs, total: 14.4 ms\n",
      "Wall time: 14 ms\n"
     ]
    }
   ],
   "source": [
    "%%time\n",
    "# we could express things more clearly perhaps\n",
    "l = len(inputs)\n",
    "for i, ii in enumerate(inputs):\n",
    "    for j, ij in enumerate(inputs[i+1:]):\n",
    "        if ii + ij >= 2020:\n",
    "            continue\n",
    "        for k, ik in enumerate(inputs[i+j+1:]):\n",
    "            if ii + ij + ik == 2020:\n",
    "                print(ii*ij*ik)"
   ]
  },
  {
   "cell_type": "code",
   "execution_count": 30,
   "metadata": {},
   "outputs": [
    {
     "data": {
      "text/plain": [
       "array([1293, 1207, 1623, 1675, 1842, 1410,   85, 1108,  557, 1217, 1506,\n",
       "       1956, 1579, 1614, 1360, 1544, 1946, 1666, 1972, 1814, 1699, 1778,\n",
       "       1529, 2002, 1768, 1173, 1407, 1201, 1264, 1739, 1774, 1951, 1980,\n",
       "       1428, 1381, 1714,  884, 1939, 1295, 1694, 1168, 1971, 1352, 1462,\n",
       "       1828, 1402, 1433, 1542, 1144, 1331, 1427, 1261, 1663, 1820, 1570,\n",
       "       1874, 1486, 1613, 1769, 1721, 1753, 1142, 1677, 2010, 1640, 1465,\n",
       "       1171,  534, 1790, 2005, 1604, 1891, 1247, 1281, 1867, 1403, 2004,\n",
       "       1668, 1416, 2001, 1359,  686, 1965, 1728, 1551, 1565, 1128, 1832,\n",
       "       1757, 1350, 1808, 1711, 1799, 1590, 1989, 1547, 1140, 1905, 1368,\n",
       "       1179, 1902, 1473, 1908, 1859, 1257, 1394, 1244, 1800, 1695, 1731,\n",
       "       1474, 1781, 1885, 1154, 1990, 1929, 1193, 1302, 1831, 1226, 1418,\n",
       "       1400, 1435, 1645, 1655, 1843, 1227, 1481, 1754, 1290, 1685, 1498,\n",
       "         71, 1286, 1137, 1288, 1758, 1987, 1471, 1839, 1545, 1682, 1615,\n",
       "       1475, 1849, 1985, 1568, 1795, 1184, 1863, 1362, 1271, 1802, 1944,\n",
       "       1821, 1880, 1788, 1733, 1150, 1314, 1727, 1434, 1833, 1312, 1457,\n",
       "        160, 1629, 1967, 1505, 1239, 1266, 1838, 1687, 1630, 1591, 1893,\n",
       "       1450, 1234, 1755, 1523, 1533, 1499, 1865, 1725, 1444, 1517, 1167,\n",
       "       1738, 1519, 1263, 1901, 1627, 1644, 1771, 1812, 1270, 1497, 1707,\n",
       "       1708, 1396])"
      ]
     },
     "execution_count": 30,
     "metadata": {},
     "output_type": "execute_result"
    }
   ],
   "source": [
    "import numpy as np\n",
    "npinputs = np.array(inputs, dtype='int')\n",
    "npinputs"
   ]
  },
  {
   "cell_type": "code",
   "execution_count": 32,
   "metadata": {},
   "outputs": [
    {
     "name": "stdout",
     "output_type": "stream",
     "text": [
      "61515678\n",
      "CPU times: user 49.7 ms, sys: 2.33 ms, total: 52 ms\n",
      "Wall time: 51.1 ms\n"
     ]
    }
   ],
   "source": [
    "%%time\n",
    "# very curious if this is faster, slower, or no diff with numpy?\n",
    "l = len(npinputs)\n",
    "for i, ii in enumerate(npinputs):\n",
    "    for j, ij in enumerate(npinputs[i+1:]):\n",
    "        if ii + ij >= 2020:\n",
    "            continue\n",
    "        for k, ik in enumerate(npinputs[i+j+1:]):\n",
    "            if ii + ij + ik == 2020:\n",
    "                print(ii*ij*ik)\n",
    "# about 3x slower"
   ]
  },
  {
   "cell_type": "code",
   "execution_count": 33,
   "metadata": {},
   "outputs": [
    {
     "data": {
      "text/plain": [
       "[<matplotlib.lines.Line2D at 0x107c3d5e0>]"
      ]
     },
     "execution_count": 33,
     "metadata": {},
     "output_type": "execute_result"
    },
    {
     "data": {
      "image/png": "[encoded data removed]",
      "text/plain": [
       "<Figure size 432x288 with 1 Axes>"
      ]
     },
     "metadata": {
      "needs_background": "light"
     },
     "output_type": "display_data"
    }
   ],
   "source": [
    "# and just for kicks, let's plot the numbers\n",
    "import matplotlib.pyplot as plt\n",
    "fig, ax = plt.subplots()  # Create a figure containing a single axes.\n",
    "ax.plot(npinputs)  # Plot some data on the axes."
   ]
  },
  {
   "cell_type": "code",
   "execution_count": null,
   "metadata": {},
   "outputs": [],
   "source": []
  }
 ],
 "metadata": {
  "kernelspec": {
   "display_name": "Python 3",
   "language": "python",
   "name": "python3"
  },
  "language_info": {
   "codemirror_mode": {
    "name": "ipython",
    "version": 3
   },
   "file_extension": ".py",
   "mimetype": "text/x-python",
   "name": "python",
   "nbconvert_exporter": "python",
   "pygments_lexer": "ipython3",
   "version": "3.8.5"
  }
 },
 "nbformat": 4,
 "nbformat_minor": 4
}
