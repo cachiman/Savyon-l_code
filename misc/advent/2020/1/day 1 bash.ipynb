{
 "cells": [
  {
   "cell_type": "code",
   "execution_count": 22,
   "metadata": {},
   "outputs": [
    {
     "name": "stdout",
     "output_type": "stream",
     "text": [
      "1486, 534, 2020, 793524\n",
      "534, 1486, 2020, 793524\n",
      "took 1146ms\n"
     ]
    }
   ],
   "source": [
    "t1=$(($(gdate +%s%N)/1000000))\n",
    "for i in $(cat input.txt); do\n",
    "  for j in $(cat input.txt); do\n",
    "    if [[ $((i+j)) == 2020 ]]; then\n",
    "      echo $i, $j, $((i+j)), $((i * j))\n",
    "    fi\n",
    "  done\n",
    "done\n",
    "t2=$(($(gdate +%s%N)/1000000))\n",
    "echo \"took $((t2-t1))ms\""
   ]
  },
  {
   "cell_type": "code",
   "execution_count": 21,
   "metadata": {},
   "outputs": [
    {
     "name": "stdout",
     "output_type": "stream",
     "text": [
      "1486, 534, 2020, 793524\n",
      "took 1339ms\n"
     ]
    }
   ],
   "source": [
    "# this time, let's save the length of the file and only sum up the numbers past where we are\n",
    "t1=$(($(gdate +%s%N)/1000000))\n",
    "n=$(wc -l < input.txt)\n",
    "for i in $(cat input.txt); do\n",
    "  n=$((n-1))\n",
    "  for j in $(cat input.txt | tail -n $n); do\n",
    "    if [[ $((i+j)) == 2020 ]]; then\n",
    "      echo $i, $j, $((i+j)), $((i * j))\n",
    "    fi\n",
    "  done\n",
    "done\n",
    "t2=$(($(gdate +%s%N)/1000000))\n",
    "echo \"took $((t2-t1))ms\"\n",
    "\n",
    "# the tail actually seems to make this take longer!!?!"
   ]
  },
  {
   "cell_type": "code",
   "execution_count": 25,
   "metadata": {},
   "outputs": [
    {
     "name": "stdout",
     "output_type": "stream",
     "text": [
      "686, 71, 1263, 2020, 61515678\n",
      "took 3434ms\n"
     ]
    }
   ],
   "source": [
    "t1=$(($(gdate +%s%N)/1000000))\n",
    "ni=$(wc -l < input.txt)\n",
    "for i in $(cat input.txt); do\n",
    "  ni=$((ni-1))\n",
    "  nj=ni\n",
    "  for j in $(cat input.txt | tail -n $ni); do\n",
    "    nj=$((nj-1))\n",
    "    if [[ $((i+j)) -gt 2020 ]]; then\n",
    "      continue\n",
    "    fi\n",
    "    for k in $(cat input.txt | tail -n $nj); do\n",
    "      if [[ $((i+j+k)) == 2020 ]]; then\n",
    "        echo $i, $j, $k, $((i+j+k)), $((i*j*k))\n",
    "        break 3\n",
    "      fi\n",
    "    done\n",
    "  done\n",
    "done\n",
    "t2=$(($(gdate +%s%N)/1000000))\n",
    "echo \"took $((t2-t1))ms\""
   ]
  },
  {
   "cell_type": "code",
   "execution_count": 26,
   "metadata": {},
   "outputs": [
    {
     "name": "stdout",
     "output_type": "stream",
     "text": [
      "686, 71, 1263, 2020, 61515678\n",
      "took 3457ms\n"
     ]
    }
   ],
   "source": [
    "t1=$(($(gdate +%s%N)/1000000))\n",
    "for i in $(cat input.txt); do\n",
    "  for j in $(cat input.txt); do\n",
    "    if [[ $((i+j)) -gt 2020 ]]; then\n",
    "      continue\n",
    "    fi\n",
    "    for k in $(cat input.txt); do\n",
    "      if [[ $((i+j+k)) == 2020 ]]; then\n",
    "        echo $i, $j, $k, $((i+j+k)), $((i*j*k))\n",
    "        break 3\n",
    "      fi\n",
    "    done\n",
    "  done\n",
    "done\n",
    "t2=$(($(gdate +%s%N)/1000000))\n",
    "echo \"took $((t2-t1))ms\"\n",
    "\n",
    "# in the triple loop, the tail still doesn't save time"
   ]
  }
 ],
 "metadata": {
  "kernelspec": {
   "display_name": "Bash",
   "language": "bash",
   "name": "bash"
  },
  "language_info": {
   "codemirror_mode": "shell",
   "file_extension": ".sh",
   "mimetype": "text/x-sh",
   "name": "bash"
  }
 },
 "nbformat": 4,
 "nbformat_minor": 4
}
