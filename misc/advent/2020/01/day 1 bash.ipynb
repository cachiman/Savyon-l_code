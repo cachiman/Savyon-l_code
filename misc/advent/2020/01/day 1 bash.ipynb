{
 "cells": [
  {
   "cell_type": "code",
   "execution_count": 27,
   "metadata": {},
   "outputs": [
    {
     "name": "stdout",
     "output_type": "stream",
     "text": [
      "1486, 534, 2020, 793524\n",
      "took 715ms\n"
     ]
    }
   ],
   "source": [
    "# bsd `date` cannot print milliseconds. sigh\n",
    "t1=$(($(gdate +%s%N)/1000000))\n",
    "\n",
    "for i in $(cat input.txt); do\n",
    "  for j in $(cat input.txt); do\n",
    "    if [[ $((i+j)) == 2020 ]]; then\n",
    "      echo $i, $j, $((i+j)), $((i * j))\n",
    "      break 2\n",
    "    fi\n",
    "  done\n",
    "done\n",
    "\n",
    "t2=$(($(gdate +%s%N)/1000000))\n",
    "echo \"took $((t2-t1))ms\""
   ]
  },
  {
   "cell_type": "code",
   "execution_count": 29,
   "metadata": {},
   "outputs": [
    {
     "name": "stdout",
     "output_type": "stream",
     "text": [
      "1486, 534, 2020, 793524\n",
      "took 884ms\n"
     ]
    }
   ],
   "source": [
    "t1=$(($(gdate +%s%N)/1000000))\n",
    "\n",
    "# this time, let's save the length of the file and only sum up the numbers past where we are\n",
    "n=$(wc -l < input.txt)\n",
    "for i in $(cat input.txt); do\n",
    "  n=$((n-1))\n",
    "  for j in $(cat input.txt | tail -n $n); do\n",
    "    if [[ $((i+j)) == 2020 ]]; then\n",
    "      echo $i, $j, $((i+j)), $((i * j))\n",
    "      break 2\n",
    "    fi\n",
    "  done\n",
    "done\n",
    "\n",
    "t2=$(($(gdate +%s%N)/1000000))\n",
    "echo \"took $((t2-t1))ms\"\n",
    "\n",
    "# the tail actually seems to make this take longer!!?!"
   ]
  },
  {
   "cell_type": "code",
   "execution_count": 25,
   "metadata": {},
   "outputs": [
    {
     "name": "stdout",
     "output_type": "stream",
     "text": [
      "686, 71, 1263, 2020, 61515678\n",
      "took 3434ms\n"
     ]
    }
   ],
   "source": [
    "t1=$(($(gdate +%s%N)/1000000))\n",
    "\n",
    "ni=$(wc -l < input.txt)\n",
    "for i in $(cat input.txt); do\n",
    "  ni=$((ni-1))\n",
    "  nj=ni\n",
    "  for j in $(cat input.txt | tail -n $ni); do\n",
    "    nj=$((nj-1))\n",
    "    if [[ $((i+j)) -gt 2020 ]]; then\n",
    "      continue\n",
    "    fi\n",
    "    for k in $(cat input.txt | tail -n $nj); do\n",
    "      if [[ $((i+j+k)) == 2020 ]]; then\n",
    "        echo $i, $j, $k, $((i+j+k)), $((i*j*k))\n",
    "        break 3\n",
    "      fi\n",
    "    done\n",
    "  done\n",
    "done\n",
    "\n",
    "t2=$(($(gdate +%s%N)/1000000))\n",
    "echo \"took $((t2-t1))ms\""
   ]
  },
  {
   "cell_type": "code",
   "execution_count": 26,
   "metadata": {},
   "outputs": [
    {
     "name": "stdout",
     "output_type": "stream",
     "text": [
      "686, 71, 1263, 2020, 61515678\n",
      "took 3457ms\n"
     ]
    }
   ],
   "source": [
    "t1=$(($(gdate +%s%N)/1000000))\n",
    "\n",
    "for i in $(cat input.txt); do\n",
    "  for j in $(cat input.txt); do\n",
    "    if [[ $((i+j)) -gt 2020 ]]; then\n",
    "      continue\n",
    "    fi\n",
    "    for k in $(cat input.txt); do\n",
    "      if [[ $((i+j+k)) == 2020 ]]; then\n",
    "        echo $i, $j, $k, $((i+j+k)), $((i*j*k))\n",
    "        break 3\n",
    "      fi\n",
    "    done\n",
    "  done\n",
    "done\n",
    "\n",
    "t2=$(($(gdate +%s%N)/1000000))\n",
    "echo \"took $((t2-t1))ms\"\n",
    "\n",
    "# in the triple loop, the tail still doesn't save time"
   ]
  },
  {
   "cell_type": "code",
   "execution_count": 40,
   "metadata": {},
   "outputs": [
    {
     "name": "stdout",
     "output_type": "stream",
     "text": [
      "1486, 534, 793524\n",
      "took 951ms\n"
     ]
    }
   ],
   "source": [
    "t1=$(($(gdate +%s%N)/1000000))\n",
    "\n",
    "# this time let's use proper arrays, and see how much faster it is\n",
    "\n",
    "# read the inputs.txt file into an array called inputs\n",
    "# `readarray` is a synonym for `mapfile`. manual here:\n",
    "# http://www.gnu.org/software/bash/manual/html_node/Bash-Builtins.html#index-mapfile\n",
    "readarray -t inputs < input.txt\n",
    "\n",
    "for i in ${inputs[@]}; do\n",
    "for j in ${inputs[@]}; do\n",
    "    if [[ $((i+j)) == 2020 ]]; then\n",
    "      echo $i, $j, $((i*j))\n",
    "      break 2\n",
    "    fi\n",
    "done\n",
    "done\n",
    "\n",
    "t2=$(($(gdate +%s%N)/1000000))\n",
    "echo \"took $((t2-t1))ms\""
   ]
  },
  {
   "cell_type": "code",
   "execution_count": 41,
   "metadata": {},
   "outputs": [
    {
     "name": "stdout",
     "output_type": "stream",
     "text": [
      "686, 71, 1263, 61515678\n",
      "took 2224ms\n"
     ]
    }
   ],
   "source": [
    "t1=$(($(gdate +%s%N)/1000000))\n",
    "\n",
    "readarray -t inputs < input.txt\n",
    "\n",
    "for i in ${inputs[@]}; do\n",
    "for j in ${inputs[@]}; do\n",
    "    if [[ $((i+j)) -gt 2020 ]]; then\n",
    "      continue\n",
    "    fi\n",
    "    for k in ${inputs[@]}; do\n",
    "        if [[ $((i+j+k)) == 2020 ]]; then\n",
    "          echo $i, $j, $k, $((i*j*k))\n",
    "          break 3\n",
    "        fi\n",
    "    done\n",
    "done\n",
    "done\n",
    "\n",
    "t2=$(($(gdate +%s%N)/1000000))\n",
    "echo \"took $((t2-t1))ms\""
   ]
  },
  {
   "cell_type": "code",
   "execution_count": 44,
   "metadata": {},
   "outputs": [
    {
     "name": "stdout",
     "output_type": "stream",
     "text": [
      "686, 71, 1263, 61515678\n",
      "took 1819ms\n"
     ]
    }
   ],
   "source": [
    "t1=$(($(gdate +%s%N)/1000000))\n",
    "\n",
    "# we can get a pretty decent speedup by slicing the arrays properly to avoid extra loops\n",
    "\n",
    "readarray -t inputs < input.txt\n",
    "\n",
    "ni=0\n",
    "\n",
    "for i in ${inputs[@]}; do\n",
    "    ni=$((ni+1))\n",
    "    nj=ni\n",
    "    # we can even slice arrays in bash!\n",
    "    for j in ${inputs[@]:ni}; do\n",
    "        nj=$((nj+1))\n",
    "        if [[ $((i+j)) -gt 2020 ]]; then\n",
    "          continue\n",
    "        fi\n",
    "        for k in ${inputs[@]:nj}; do\n",
    "            if [[ $((i+j+k)) == 2020 ]]; then\n",
    "              echo $i, $j, $k, $((i*j*k))\n",
    "              break 3\n",
    "            fi\n",
    "        done\n",
    "    done\n",
    "done\n",
    "\n",
    "t2=$(($(gdate +%s%N)/1000000))\n",
    "echo \"took $((t2-t1))ms\""
   ]
  }
 ],
 "metadata": {
  "kernelspec": {
   "display_name": "Bash",
   "language": "bash",
   "name": "bash"
  },
  "language_info": {
   "codemirror_mode": "shell",
   "file_extension": ".sh",
   "mimetype": "text/x-sh",
   "name": "bash"
  }
 },
 "nbformat": 4,
 "nbformat_minor": 4
}
