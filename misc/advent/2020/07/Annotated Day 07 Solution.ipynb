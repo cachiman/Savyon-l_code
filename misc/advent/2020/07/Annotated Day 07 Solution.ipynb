{
 "cells": [
  {
   "cell_type": "markdown",
   "metadata": {},
   "source": [
    "To solve [day 7](https://adventofcode.com/2020/day/7) of advent of code, you must take a description of nested bags like this one:\n",
    "\n",
    "```\n",
    "light red bags contain 1 bright white bag, 2 muted yellow bags.\n",
    "dark orange bags contain 3 bright white bags, 4 muted yellow bags.\n",
    "bright white bags contain 1 shiny gold bag.\n",
    "muted yellow bags contain 2 shiny gold bags, 9 faded blue bags.\n",
    "shiny gold bags contain 1 dark olive bag, 2 vibrant plum bags.\n",
    "dark olive bags contain 3 faded blue bags, 4 dotted black bags.\n",
    "vibrant plum bags contain 5 faded blue bags, 6 dotted black bags.\n",
    "faded blue bags contain no other bags.\n",
    "dotted black bags contain no other bags.\n",
    "```\n",
    "\n",
    "And answer a couple of questions about what bags contain the \"shiny gold\" bag, and what bags are contained by it."
   ]
  },
  {
   "cell_type": "code",
   "execution_count": 43,
   "metadata": {},
   "outputs": [],
   "source": [
    "test_input = '''light red bags contain 1 bright white bag, 2 muted yellow bags.\n",
    "dark orange bags contain 3 bright white bags, 4 muted yellow bags.\n",
    "bright white bags contain 1 shiny gold bag.\n",
    "muted yellow bags contain 2 shiny gold bags, 9 faded blue bags.\n",
    "shiny gold bags contain 1 dark olive bag, 2 vibrant plum bags.\n",
    "dark olive bags contain 3 faded blue bags, 4 dotted black bags.\n",
    "vibrant plum bags contain 5 faded blue bags, 6 dotted black bags.\n",
    "faded blue bags contain no other bags.\n",
    "dotted black bags contain no other bags.\n",
    "'''"
   ]
  },
  {
   "cell_type": "markdown",
   "metadata": {},
   "source": [
    "The first thing we can do is recognize the structure of the problem. Each color bag contains 0 or more other colors of bags, so the bag input describes a _graph of bags_\n",
    "\n",
    "<img src=\"graph.png\" alt=\"graph\" style=\"width: 600px;\"/>\n",
    "\n",
    "There are lots of ways to represent a graph in a programming language, but we're going to use an **adjacency list**. Our first step in solving the problem is to turn the above description of the problem into a hash table with keys that are bag names and a value that's a hash of bag names and the number of bags contained within."
   ]
  },
  {
   "cell_type": "code",
   "execution_count": 3,
   "metadata": {},
   "outputs": [],
   "source": [
    "what_we_want = {\n",
    "    \"light red\": {\"muted yellow\": 2, \"bright white\": 1},\n",
    "    \"dark orange\": {\"muted yellow\": 4, \"bright white\": 3},\n",
    "    \"etc\": {\"etc\": 0}\n",
    "}"
   ]
  },
  {
   "cell_type": "markdown",
   "metadata": {},
   "source": [
    "There are lots of ways to convert the text into the representation we want. I'll skip complicated regular expressions, and just use split to break up the input:"
   ]
  },
  {
   "cell_type": "code",
   "execution_count": 72,
   "metadata": {},
   "outputs": [
    {
     "data": {
      "text/plain": [
       "{'light red': {'bright white': 1, 'muted yellow': 2},\n",
       " 'dark orange': {'bright white': 3, 'muted yellow': 4},\n",
       " 'bright white': {'shiny gold': 1},\n",
       " 'muted yellow': {'shiny gold': 2, 'faded blue': 9},\n",
       " 'shiny gold': {'dark olive': 1, 'vibrant plum': 2},\n",
       " 'dark olive': {'faded blue': 3, 'dotted black': 4},\n",
       " 'vibrant plum': {'faded blue': 5, 'dotted black': 6},\n",
       " 'faded blue': {},\n",
       " 'dotted black': {}}"
      ]
     },
     "execution_count": 72,
     "metadata": {},
     "output_type": "execute_result"
    }
   ],
   "source": [
    "def parse_bags(input):\n",
    "    bags = {}\n",
    "    for line in input.strip().split(\"\\n\"):\n",
    "        # \"red bag contains 2 dark olive...\" -> [\"red bag\", \"2 dark olive...\"]\n",
    "        color, insides = line.split(\" bags contain \")\n",
    "        bags[color] = {}\n",
    "\n",
    "        # \"2 dark olive bags, 4 yellow bags\" -> [\"2 dark olive bags\", \"4 yellow bags\"]\n",
    "        for inside in insides.split(\", \"):\n",
    "            # handle the \"contain no other bags\" case separately\n",
    "            if 'no other' in inside:\n",
    "                continue\n",
    "\n",
    "            # \"2 dark olive bags\" -> \"2 dark olive\"\n",
    "            number_and_color = inside.split(\" bag\")[0]\n",
    "\n",
    "            # \"2 dark olive\" -> (\"2\", [\"dark\", \"olive\"])\n",
    "            number, *icolor = number_and_color.split(\" \")\n",
    "\n",
    "            # bags[\"red\"][\"dark olive\"] => 2\n",
    "            bags[color][' '.join(icolor)] = int(number)\n",
    "\n",
    "    return bags\n",
    "\n",
    "bags = parse_bags(test_input)\n",
    "bags"
   ]
  },
  {
   "cell_type": "markdown",
   "metadata": {},
   "source": [
    "Now that we have our graph represented in a hash, we can look at the actual problems we need to solve.\n",
    "\n",
    "Part 1 asks us: how many different bag colors could contain the **shiny gold** bag?\n",
    "\n",
    "In our example, the **bright white** and **muted yellow** bags could contain it directly, and the **dark orange** and **light red** ones could contain them.\n",
    "\n",
    "The rest of the bags could never contain a shiny gold bag.\n",
    "\n",
    "To solve this, we can keep start from our shiny gold bag and work outwards, maintaining a list of the already saved bags. If we don't find any new bags, we've found all the bags that can contain our shiny gold bag.\n",
    "\n",
    "A good first step is to list the bags that can contain a given color. To do so, we'll simply loop through the bags and return the ones that have the given color in them."
   ]
  },
  {
   "cell_type": "code",
   "execution_count": 52,
   "metadata": {},
   "outputs": [
    {
     "data": {
      "text/plain": [
       "['bright white', 'muted yellow']"
      ]
     },
     "execution_count": 52,
     "metadata": {},
     "output_type": "execute_result"
    }
   ],
   "source": [
    "# return a list of colors that can contain the given color\n",
    "def can_contain(color, bags):\n",
    "    return [c for c in bags if color in bags[c]]\n",
    "\n",
    "can_contain('shiny gold', bags)"
   ]
  },
  {
   "cell_type": "markdown",
   "metadata": {},
   "source": [
    "Now we can start with shiny gold, search for bags that contain that, and continue that loop until we aren't getting any new bags."
   ]
  },
  {
   "cell_type": "code",
   "execution_count": 73,
   "metadata": {},
   "outputs": [
    {
     "data": {
      "text/plain": [
       "{'bright white', 'dark orange', 'light red', 'muted yellow'}"
      ]
     },
     "execution_count": 73,
     "metadata": {},
     "output_type": "execute_result"
    }
   ],
   "source": [
    "# return a set of bags that can contain a bag, or can \n",
    "# contain a bag that contains that bag, and so on recursively\n",
    "def can_contain_recursive(color, bags):\n",
    "    valid_bags = {color}\n",
    "    got_new_bag = True\n",
    "    \n",
    "    # iterate until we no longer added any bags to the \n",
    "    # valid_bags set\n",
    "    while got_new_bag:\n",
    "        got_new_bag = False\n",
    "\n",
    "        # we're going to be updating the set while we iterate, \n",
    "        # so 'list' makes a copy we can iterate on\n",
    "        for bag in list(valid_bags):\n",
    "            for container_color in can_contain(bag, bags):\n",
    "                if container_color not in valid_bags:\n",
    "                    valid_bags.add(container_color)\n",
    "                    got_new_bag = True\n",
    "\n",
    "    # now we can remove the given color, because bags can't \n",
    "    # contain themselves in this problem\n",
    "    return valid_bags - {color}\n",
    "\n",
    "can_contain_recursive(\"shiny gold\", bags)"
   ]
  },
  {
   "cell_type": "code",
   "execution_count": 105,
   "metadata": {},
   "outputs": [
    {
     "data": {
      "text/plain": [
       "set()"
      ]
     },
     "execution_count": 105,
     "metadata": {},
     "output_type": "execute_result"
    }
   ],
   "source": [
    "def cc(color, bags):\n",
    "    return set(c for c in bags if color in bags[c])\n",
    "\n",
    "def expand(colors, bags):\n",
    "    return set.union(*[cc(c, bags) for c in colors])\n",
    "\n",
    "def ccr2(valid_bags, bags):\n",
    "    all_valid_bags = [expand(bag) for bag in valid_bags]\n",
    "    return all_valid_bags\n",
    "\n",
    "def ccr(valid_bags, all_bags):\n",
    "    print([cc(bag, bags) or set() for bag in valid_bags])\n",
    "    valid_bags_expanded = set.union(*[cc(bag, bags) for bag in valid_bags] + [set()])\n",
    "    if valid_bags_expanded != valid_bags:\n",
    "        valid_bags = ccr(valid_bags_expanded, all_bags)\n",
    "    return valid_bags\n",
    "\n",
    "expand({'light red'}, bags)"
   ]
  },
  {
   "cell_type": "code",
   "execution_count": 93,
   "metadata": {},
   "outputs": [
    {
     "data": {
      "text/plain": [
       "set()"
      ]
     },
     "execution_count": 93,
     "metadata": {},
     "output_type": "execute_result"
    }
   ],
   "source": [
    "set.union(*[[] or set()])"
   ]
  },
  {
   "cell_type": "markdown",
   "metadata": {},
   "source": [
    "Now to solve the problem, we can print the length of the list returned by `can_contain_recursive`"
   ]
  },
  {
   "cell_type": "code",
   "execution_count": 56,
   "metadata": {},
   "outputs": [
    {
     "name": "stdout",
     "output_type": "stream",
     "text": [
      "4\n",
      "355\n"
     ]
    }
   ],
   "source": [
    "# run can_contain_recursive on the test data\n",
    "print(len(can_contain_recursive(\"shiny gold\", bags)))\n",
    "\n",
    "# run can_contain_recursive on my full problem set\n",
    "print(len(can_contain_recursive(\"shiny gold\", parse_bags(open(\"input.txt\").read()))))"
   ]
  },
  {
   "cell_type": "markdown",
   "metadata": {},
   "source": [
    "For part 2 of the problem, we're asked to determine how many bags our bag could contain, and how many bags those bags could contain, and so on.\n",
    "\n",
    "To do so, we start with one bag, **shiny gold**, and look at the bags it contains: 1 **dark olive** and 2 **vibrant plum**.\n",
    "\n",
    "For **dark olive**, we add that bag to our sum, then multiply the number of bags contained in _that_ bag by 1.\n",
    "\n",
    "For **vibrant plum**, we add those 2 bags to our sum, then multiply the number of bags contained in that bag by 2.\n",
    "\n",
    "When a bag doesn't have any bags inside it, we can simply return zero.\n",
    "\n",
    "Repeat this procedure, and we'll have a count of all of the many bags that can be contained within one single\n",
    "bag."
   ]
  },
  {
   "cell_type": "code",
   "execution_count": 71,
   "metadata": {},
   "outputs": [
    {
     "name": "stdout",
     "output_type": "stream",
     "text": [
      "32\n",
      "5312\n"
     ]
    }
   ],
   "source": [
    "def bag_contains_n_bags(color, bags):\n",
    "    nbags = 0\n",
    "    for bag, n in bags[color].items():\n",
    "        nbags += n + n * bag_contains_n_bags(bag, bags)\n",
    "    return nbags\n",
    "\n",
    "# the test set returns 32, as the problem description says\n",
    "print(bag_contains_n_bags(\"shiny gold\", bags))\n",
    "\n",
    "# and given my full input, we get 5312 bags contained within the shiny gold bag\n",
    "print(bag_contains_n_bags(\"shiny gold\", parse_bags(open(\"input.txt\").read())))"
   ]
  }
 ],
 "metadata": {
  "kernelspec": {
   "display_name": "Python 3",
   "language": "python",
   "name": "python3"
  },
  "language_info": {
   "codemirror_mode": {
    "name": "ipython",
    "version": 3
   },
   "file_extension": ".py",
   "mimetype": "text/x-python",
   "name": "python",
   "nbconvert_exporter": "python",
   "pygments_lexer": "ipython3",
   "version": "3.8.1"
  }
 },
 "nbformat": 4,
 "nbformat_minor": 4
}
