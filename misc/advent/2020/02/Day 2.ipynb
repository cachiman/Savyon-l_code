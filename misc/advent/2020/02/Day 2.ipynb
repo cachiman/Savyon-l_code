{
 "cells": [
  {
   "cell_type": "code",
   "execution_count": 13,
   "metadata": {},
   "outputs": [],
   "source": [
    "lines = [line.strip().split(\": \") for line in open(\"input.txt\")]"
   ]
  },
  {
   "cell_type": "code",
   "execution_count": 62,
   "metadata": {},
   "outputs": [
    {
     "data": {
      "text/plain": [
       "[['8-9 x', 'xxxxxxxrk'],\n",
       " ['5-8 f', 'fxffmfff'],\n",
       " ['2-5 c', 'ccspwpc'],\n",
       " ['1-4 g', 'gggg'],\n",
       " ['9-10 l', 'lllllllllk']]"
      ]
     },
     "execution_count": 62,
     "metadata": {},
     "output_type": "execute_result"
    }
   ],
   "source": [
    "lines[:5]"
   ]
  },
  {
   "cell_type": "code",
   "execution_count": 61,
   "metadata": {},
   "outputs": [
    {
     "name": "stdout",
     "output_type": "stream",
     "text": [
      "645 737\n"
     ]
    }
   ],
   "source": [
    "from collections import Counter\n",
    "\n",
    "# given a 1-indexed string s, return the character in the ith position. \n",
    "# get(\"banana\", 1) => b\n",
    "# get(\"banana\", 6) => a\n",
    "# get(\"banana\", 7) => None\n",
    "def get(s, i):\n",
    "    if i < 1: raise Exception(\"invalid index\")\n",
    "    if i > len(s): return None\n",
    "    return s[i-1]\n",
    "    \n",
    "\n",
    "i=0\n",
    "j=0\n",
    "for spec, pw in lines:\n",
    "    cnt, ltr = spec.split(\" \")\n",
    "    minl, maxl = map(int, cnt.split(\"-\"))\n",
    "    pwc = Counter(pw)\n",
    "    if ltr not in pwc:\n",
    "        continue\n",
    "    if minl <= pwc[ltr] <= maxl:\n",
    "        i += 1\n",
    "    a = get(pw, minl) == ltr\n",
    "    b = get(pw, maxl) == ltr\n",
    "    if (a and not b) or (b and not a):\n",
    "        j += 1\n",
    "print(i, j)"
   ]
  }
 ],
 "metadata": {
  "kernelspec": {
   "display_name": "Python 3",
   "language": "python",
   "name": "python3"
  },
  "language_info": {
   "codemirror_mode": {
    "name": "ipython",
    "version": 3
   },
   "file_extension": ".py",
   "mimetype": "text/x-python",
   "name": "python",
   "nbconvert_exporter": "python",
   "pygments_lexer": "ipython3",
   "version": "3.8.3"
  }
 },
 "nbformat": 4,
 "nbformat_minor": 4
}
